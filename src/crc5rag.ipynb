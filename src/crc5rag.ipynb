{
 "cells": [
  {
   "cell_type": "markdown",
   "id": "d749a561-c8fc-4991-afe9-7113d3c6017c",
   "metadata": {},
   "source": [
    "### Trying out RAG with ollama and chromadb to informally access the text material\n",
    "\n",
    "(ollama is recommended over hugging face for local experimentation)"
   ]
  },
  {
   "cell_type": "markdown",
   "id": "f8b9afae-07cb-4ea7-990e-65e8f6d404e1",
   "metadata": {},
   "source": [
    "#### Preliminaries"
   ]
  },
  {
   "cell_type": "code",
   "execution_count": 3,
   "id": "f868b145-7a67-4817-8c64-62f0eec8cb0c",
   "metadata": {},
   "outputs": [],
   "source": [
    "import gradio as gr\n",
    "import ollama\n",
    "import chromadb\n",
    "import html\n",
    "\n",
    "chromaclient = chromadb.PersistentClient(path=\"/home/imagery/crc5rag\")\n",
    "collection = chromaclient.get_collection(name=\"crc5rag\")"
   ]
  },
  {
   "cell_type": "markdown",
   "id": "1fc4e246-9d2a-4f70-b2f2-a48b74e8bc1d",
   "metadata": {},
   "source": [
    "Choose a distilled deepseek LLM appropriate to your local computer or the cloud version if you have a deepseek account. In the latter case, be surethat you are signed in to ollama,"
   ]
  },
  {
   "cell_type": "code",
   "execution_count": 2,
   "id": "1351f0b9-8684-447e-9b54-6e06b75ed492",
   "metadata": {},
   "outputs": [],
   "source": [
    "#deepseek = 'deepseek-r1:7b'\n",
    "#deepseek = 'deepseek-r1:14b'\n",
    "deepseek = 'deepseek-v3.1:671b-cloud'"
   ]
  },
  {
   "cell_type": "markdown",
   "id": "c8e19a2a-0129-4e80-b2bb-881e142751ab",
   "metadata": {},
   "source": [
    "Ollama uses a docker-like syntax to pull LLM's. \n",
    "\n",
    "Open a terminal window in the Launcher and enter\n",
    "\n",
    "    ollama serve &\n",
    "    \n",
    "Then run the following cell (will take a few minutes the first time):"
   ]
  },
  {
   "cell_type": "code",
   "execution_count": 2,
   "id": "d66a69bd-b4a6-4c28-91fc-f4b0ff5a1ef9",
   "metadata": {},
   "outputs": [],
   "source": [
    "%%capture\n",
    "!ollama pull nomic-embed-text\n",
    "!ollama pull $deepseek"
   ]
  },
  {
   "cell_type": "markdown",
   "id": "35b5eba1-9640-4244-82d6-36c0db59158d",
   "metadata": {},
   "source": [
    "If you chose the cloud version of deepseek then open another terminal window and run\n",
    "\n",
    "   ollama signin\n",
    "\n",
    "and follow the instructions.   "
   ]
  },
  {
   "cell_type": "markdown",
   "id": "a3c9451e-7588-4db5-a87a-d96ee9a152b5",
   "metadata": {},
   "source": [
    "#### Execute a RAG query with deepseek-r1 on the textbook contents\n",
    "\n",
    "If you want to re-start the cell, bump the server port by one (e.g. ... .launch(server_name=\"0.0.0.0\", server_port=7861)"
   ]
  },
  {
   "cell_type": "code",
   "execution_count": 4,
   "id": "ae9a7009-0c0d-4566-b29e-fb3a1033dcb6",
   "metadata": {},
   "outputs": [
    {
     "name": "stdout",
     "output_type": "stream",
     "text": [
      "* Running on local URL:  http://0.0.0.0:7860\n",
      "\n",
      "To create a public link, set `share=True` in `launch()`.\n"
     ]
    },
    {
     "data": {
      "text/html": [
       "<div><iframe src=\"http://localhost:7860/\" width=\"100%\" height=\"500\" allow=\"autoplay; camera; microphone; clipboard-read; clipboard-write;\" frameborder=\"0\" allowfullscreen></iframe></div>"
      ],
      "text/plain": [
       "<IPython.core.display.HTML object>"
      ]
     },
     "metadata": {},
     "output_type": "display_data"
    },
    {
     "data": {
      "text/plain": []
     },
     "execution_count": 4,
     "metadata": {},
     "output_type": "execute_result"
    }
   ],
   "source": [
    "def ragask(query):\n",
    "    # Embed the query\n",
    "    queryembed = ollama.embed(model=\"nomic-embed-text\", input=query)['embeddings']\n",
    "    # Retrieve related documents (eight 512-token chunks)\n",
    "    relateddocs = '\\n\\n'.join(collection.query(query_embeddings=queryembed, n_results=4)['documents'][0])\n",
    "    # Generate a response\n",
    "    prompt = f\"Answer the question: {query}, referring to the following text as a resource: {relateddocs}\"\n",
    "    response = ollama.generate(model=deepseek, prompt=prompt, stream=False)['response']   \n",
    "    # Ensure the response is valid Markdown\n",
    "    return html.escape(response)\n",
    "\n",
    "# Launch Gradio Interface\n",
    "gr.Interface(fn=ragask,inputs=gr.Textbox(lines=2, placeholder=\"Enter your question here...\"),\n",
    "             outputs=\"markdown\",\n",
    "             description=\"Ask questions about the book contents\",\n",
    "             title=\"Image Analysis, Classification and Change Detection in Remote Sensing\").launch(server_name=\"0.0.0.0\", server_port=7860)"
   ]
  },
  {
   "cell_type": "code",
   "execution_count": null,
   "id": "bead031c-4ce1-43a7-bf2c-2669ceabb755",
   "metadata": {},
   "outputs": [],
   "source": []
  }
 ],
 "metadata": {
  "kernelspec": {
   "display_name": "Python 3 (ipykernel)",
   "language": "python",
   "name": "python3"
  },
  "language_info": {
   "codemirror_mode": {
    "name": "ipython",
    "version": 3
   },
   "file_extension": ".py",
   "mimetype": "text/x-python",
   "name": "python",
   "nbconvert_exporter": "python",
   "pygments_lexer": "ipython3",
   "version": "3.10.12"
  }
 },
 "nbformat": 4,
 "nbformat_minor": 5
}
