{
 "cells": [
  {
   "cell_type": "markdown",
   "id": "d749a561-c8fc-4991-afe9-7113d3c6017c",
   "metadata": {},
   "source": [
    "### Trying out RAG with ollama and chromadb\n",
    "ollama is installed in the python environment venvcrc5 from where this notebook is started.\n",
    "\n",
    "ollama is recommended over hugging face for local experimentation\n",
    "\n",
    "it uses a docker-like syntax"
   ]
  },
  {
   "cell_type": "code",
   "execution_count": 2,
   "id": "4de73eae-777f-4b14-9ed4-cbdd2cfd4556",
   "metadata": {},
   "outputs": [
    {
     "name": "stdout",
     "output_type": "stream",
     "text": [
      "Usage:\n",
      "  ollama [flags]\n",
      "  ollama [command]\n",
      "\n",
      "Available Commands:\n",
      "  serve       Start ollama\n",
      "  create      Create a model from a Modelfile\n",
      "  show        Show information for a model\n",
      "  run         Run a model\n",
      "  stop        Stop a running model\n",
      "  pull        Pull a model from a registry\n",
      "  push        Push a model to a registry\n",
      "  list        List models\n",
      "  ps          List running models\n",
      "  cp          Copy a model\n",
      "  rm          Remove a model\n",
      "  help        Help about any command\n",
      "\n",
      "Flags:\n",
      "  -h, --help      help for ollama\n",
      "  -v, --version   Show version information\n",
      "\n",
      "Use \"ollama [command] --help\" for more information about a command.\n",
      "ollama version is 0.5.7\n",
      "NAME                       ID              SIZE      MODIFIED     \n",
      "deepseek-r1:1.5b           e0979632db5a    1.1 GB    2 weeks ago     \n",
      "nomic-embed-text:latest    0a109f422b47    274 MB    2 weeks ago     \n",
      "deepseek-r1:7b             755ced02ce7b    4.7 GB    2 weeks ago     \n",
      "deepseek-r1:14b            c333b7232bdb    9.0 GB    5 weeks ago     \n",
      "gemma3:12b                 6fd036cefda5    8.1 GB    5 months ago    \n",
      "deepseek-r1:latest         0a8c26691023    4.7 GB    5 months ago    \n",
      "llama3.1:latest            46e0c10c039e    4.9 GB    6 months ago    \n"
     ]
    }
   ],
   "source": [
    "!ollama\n",
    "!ollama --version\n",
    "!ollama list"
   ]
  },
  {
   "cell_type": "code",
   "execution_count": 5,
   "id": "289f0622-759b-4071-bb1e-e83d8cffb282",
   "metadata": {},
   "outputs": [
    {
     "name": "stdout",
     "output_type": "stream",
     "text": [
      "Pull a model from a registry\n",
      "\n",
      "Usage:\n",
      "  ollama pull MODEL [flags]\n",
      "\n",
      "Flags:\n",
      "  -h, --help       help for pull\n",
      "      --insecure   Use an insecure registry\n",
      "\n",
      "Environment Variables:\n",
      "      OLLAMA_HOST                IP Address for the ollama server (default 127.0.0.1:11434)\n"
     ]
    }
   ],
   "source": [
    "!ollama help pull"
   ]
  },
  {
   "cell_type": "markdown",
   "id": "07d32e73-ede0-4a86-b35a-7fa55ebf7cfb",
   "metadata": {},
   "source": [
    "#### The pdfreader translates any pdf document to text readable by the model"
   ]
  },
  {
   "cell_type": "code",
   "execution_count": 2,
   "id": "59742336-ba28-4ad4-ad9f-b483638d3b31",
   "metadata": {},
   "outputs": [],
   "source": [
    "from pypdf import PdfReader\n",
    "# my textbook, 5th ed\n",
    "reader = PdfReader(\"/home/mort/LaTeX/new projects/CRC5/main.pdf\")\n",
    "total_pages = len(reader.pages)\n",
    "all_text = \"\"\n",
    "for page_num in range(total_pages):\n",
    "    page = reader.pages[page_num]\n",
    "    all_text += page.extract_text()\n",
    "f = open(\"/home/mort/crc5pdfreader/main.txt\", \"w\")\n",
    "f.write(all_text)\n",
    "f.close()"
   ]
  },
  {
   "cell_type": "markdown",
   "id": "43a22089-22a2-4f18-aa53-8c8bc911f7f0",
   "metadata": {},
   "source": [
    "#### Here the original LaTeX files are collected instead"
   ]
  },
  {
   "cell_type": "code",
   "execution_count": 1,
   "id": "9d7d2e14-d5c0-4b02-8151-7a63f0031b40",
   "metadata": {},
   "outputs": [],
   "source": [
    "import glob\n",
    "# Find `.tex` files in LaTeX directory and all subdirectories\n",
    "tex_files = glob.glob('/home/mort/LaTeX/new projects/CRC5/**/chapter[1-9].tex', recursive = True)\n",
    "tex_files.sort()\n",
    "f = open(\"/home/mort/crc5latex/main.txt\", \"w\")\n",
    "for file in tex_files:\n",
    "    g = open(file, \"r\")\n",
    "    content = g.read()\n",
    "    f.write(content)\n",
    "    g.close()\n",
    "f.close()    \n",
    "    "
   ]
  },
  {
   "cell_type": "markdown",
   "id": "252ef2f9-2ced-4769-a465-0948676ee37f",
   "metadata": {},
   "source": [
    "#### The LlamaParse version of the text pdf (parsed from the web API) was stored in /home/mort/crc5llamaparse"
   ]
  },
  {
   "cell_type": "markdown",
   "id": "cd89d240-af18-455f-bb83-1a29deeee246",
   "metadata": {},
   "source": [
    "#### Aside :Using crawl4ai to scrape web pages (writes content to /home/mort/crawl4ai.md)"
   ]
  },
  {
   "cell_type": "code",
   "execution_count": 14,
   "id": "05592e6a-c814-44de-83b9-d78259b0fc67",
   "metadata": {},
   "outputs": [
    {
     "name": "stdout",
     "output_type": "stream",
     "text": [
      "\u001b[1;36m[\u001b[0m\u001b[36mINIT\u001b[0m\u001b[1;36m]\u001b[0m\u001b[36m...\u001b[0m\u001b[36m. → Crawl4AI \u001b[0m\u001b[1;36m0.7\u001b[0m\u001b[36m.\u001b[0m\u001b[1;36m2\u001b[0m\u001b[36m \u001b[0m\n",
      "Crawled 101 pages in total\n",
      "URL: http://www.imm.dtu.dk/~alan/publications.html\n",
      "Depth: 0\n",
      "URL: http://www.dcrs.dtu.dk/DCRS/DANMAC.html\n",
      "Depth: 1\n",
      "URL: http://www.emi.dtu.dk/aboutEMI/staff/hs.html\n",
      "Depth: 1\n",
      "URL: http://orbit.dtu.dk/All.external?recid=248644\n",
      "Depth: 1\n",
      "URL: http://www.imm.dtu.dk/homepage.html\n",
      "Depth: 1\n",
      "URL: http://www.dtu.dk\n",
      "Depth: 1\n",
      "URL: http://orbit.dtu.dk/en/publications/monitoring-the-change-in-colour-of-meat-a-comparison-of-traditional-and-kernelbased-orthogonal-transformations%2857b82c45-bd9a-4c3b-b7f2-376ffd617066%29.html\n",
      "Depth: 1\n",
      "URL: http://orbit.dtu.dk/en/publications/automated-invariant-alignment-to-improve-canonical-variates-in-image-fusion-of-satellite-and-weather-radar-data%28637c8caa-f4c8-4474-8e89-9f1881074c88%29.html\n",
      "Depth: 1\n",
      "URL: http://www.imm.dtu.dk/~aa/kriging.ps.Z\n",
      "Depth: 1\n",
      "URL: http://www.imm.dtu.dk/~alan/polsar_covmat_rotate.zip\n",
      "Depth: 1\n",
      "URL: http://www.imm.dtu.dk/~alan/wilks_lambda_change.zip\n",
      "Depth: 1\n",
      "URL: http://www.imm.dtu.dk/~alan/eigvec_eigval_id.zip\n",
      "Depth: 1\n",
      "URL: http://www.imm.dtu.dk/~alan/Matlab_JSTARS.2024.3453442.zip\n",
      "Depth: 1\n",
      "URL: http://www.imm.dtu.dk/~alan/wishart_blockdiag.zip\n",
      "Depth: 1\n",
      "URL: http://orbit.dtu.dk/files/134029919/main.pdf\n",
      "Depth: 1\n",
      "URL: http://www.imm.dtu.dk/~haa\n",
      "Depth: 1\n",
      "URL: http://www.imm.dtu.dk/~alan/DISP2019_proceedings.pdf\n",
      "Depth: 1\n",
      "URL: http://orbit.dtu.dk/en/publications/classification-of-polarimetric-sar-data-using-dictionary-learning%28144830a0-36aa-4531-9c59-1ad5eebe1696%29.html\n",
      "Depth: 1\n",
      "URL: http://www.imm.dtu.dk/~alan/IGARSS2021_fast_eigvals_beamer_5min.mp4\n",
      "Depth: 1\n",
      "URL: http://www.imm.dtu.dk/~alan/science-operations-copernicus-imaging-microwave-radiometer-cimr-mission\n",
      "Depth: 1\n",
      "URL: http://www.imm.dtu.dk/~alan/igarss2016correction.pdf\n",
      "Depth: 1\n",
      "URL: http://www.imm.dtu.dk/~alan/lps2016correction.pdf\n",
      "Depth: 1\n",
      "URL: http://www.imm.dtu.dk/~alan/imsor.html\n",
      "Depth: 1\n",
      "URL: http://www.imm.dtu.dk/~be\n",
      "Depth: 1\n",
      "URL: http://www.imm.dtu.dk/~hm\n",
      "Depth: 1\n",
      "URL: http://www.imm.dtu.dk/~abd\n",
      "Depth: 1\n",
      "URL: http://www.space.dtu.dk/English/Service/Phonebook.aspx?id=105122&lg=showcommon&type=person\n",
      "Depth: 1\n",
      "URL: http://www.oersted.dtu.dk/staff/person/hs\n",
      "Depth: 1\n",
      "URL: http://www.student.dtu.dk/~s052453\n",
      "Depth: 1\n",
      "URL: http://www.imm.dtu.dk/~rl\n",
      "Depth: 1\n",
      "URL: http://www.imm.dtu.dk/~thb\n",
      "Depth: 1\n",
      "URL: http://www.imm.dtu.dk/~kbh\n",
      "Depth: 1\n",
      "URL: http://www.imm.dtu.dk/~kbh/OA/tex/ace.pdf\n",
      "Depth: 1\n",
      "URL: http://www.imm.dtu.dk/~meh\n",
      "Depth: 1\n",
      "URL: http://www.imm.dtu.dk/~ma\n",
      "Depth: 1\n",
      "URL: http://www.imm.dtu.dk/~ns\n",
      "Depth: 1\n",
      "URL: http://www.imm.dtu.dk/~jmc\n",
      "Depth: 1\n",
      "URL: http://www.imm.dtu.dk/~jsve\n",
      "Depth: 1\n",
      "URL: http://www.imm.dtu.dk/~kc\n",
      "Depth: 1\n",
      "URL: http://www2.imm.dtu.dk/pubdb/p.php\n",
      "Depth: 1\n",
      "URL: http://www.space.dtu.dk/english/Service/Phonebook/Person?cpid=45442&id=37555&qt=dtupublicationquery&tab=2\n",
      "Depth: 1\n",
      "URL: http://www.imm.dtu.dk/~lkh\n",
      "Depth: 1\n",
      "URL: http://www.imm.dtu.dk/~ns/biosonardsagm.ps\n",
      "Depth: 1\n",
      "URL: https://mmds.imm.dtu.dk\n",
      "Depth: 1\n",
      "URL: http://www.space.dtu.dk/english/Research/Research_divisions/Geodesy/Staff/Person?cpid=45464&id=38310&qt=dtupublicationquery&tab=2\n",
      "Depth: 1\n",
      "URL: http://www.space.dtu.dk/English/Staff/Geodesy.aspx?id=38307&lg=showcommon&type=person\n",
      "Depth: 1\n",
      "URL: http://www.space.dtu.dk/English/Service/Phonebook.aspx?id=2305&lg=showcommon&type=person\n",
      "Depth: 1\n",
      "URL: http://www.space.dtu.dk/english/Research/Research_divisions/Geodesy/Staff/Person?cpid=45461&id=38307&tab=1\n",
      "Depth: 1\n",
      "URL: https://backend.orbit.dtu.dk/ws/portalfiles/portal/216091344/tgrs_ice.pdf\n",
      "Depth: 1\n",
      "URL: http://www.space.dtu.dk/English/Staff/Geodesy.aspx?id=38310&lg=showcommon&type=person\n",
      "Depth: 1\n",
      "URL: http://www.space.dtu.dk/English/Staff/Microwaves_Remote_Sensing.aspx?id=2305&lg=showcommon&type=person\n",
      "Depth: 1\n",
      "URL: https://backend.orbit.dtu.dk/ws/portalfiles/portal/351460042/wishart_blockdiag_2021_correction_sent.pdf\n",
      "Depth: 1\n",
      "URL: https://backend.orbit.dtu.dk/ws/portalfiles/portal/275414388/Cloude_van_Zyl_RSL.pdf\n",
      "Depth: 1\n",
      "URL: https://people.compute.dtu.dk/knco\n",
      "Depth: 1\n",
      "URL: https://orbit.dtu.dk/en/persons/allan-aasbjerg-nielsen\n",
      "Depth: 1\n",
      "URL: https://www.imm.dtu.dk/English/Service/Phonebook.aspx?id=36283&lg=showcommon&type=person\n",
      "Depth: 1\n",
      "URL: https://www.imm.dtu.dk/cafia\n",
      "Depth: 1\n",
      "URL: https://www.imm.dtu.dk/dataanalyse/ssiab8\n",
      "Depth: 1\n",
      "URL: https://orbit.dtu.dk/en/publications/change-detection-in-full-and-dual-polarization-single-and-multifrequency-sar-data%2813fd0be5-c76a-4bab-9515-015d33cf4936%29.html\n",
      "Depth: 1\n",
      "URL: https://orbit.dtu.dk/files/390423619/FINAL_VERSION.pdf\n",
      "Depth: 1\n",
      "URL: https://orbit.dtu.dk/en/publications/rotation-of-polarimetric-sar-covariance-matrices\n",
      "Depth: 1\n",
      "URL: https://orbit.dtu.dk/en/publications/canonical-information-analysis%2853f3f2f5-c821-4647-bd7a-09aa9dc9d923%29.html\n",
      "Depth: 1\n",
      "URL: https://orbit.dtu.dk/en/publications/fast-matrix-based-computation-of-eigenvalues-in-polsar-data\n",
      "Depth: 1\n",
      "URL: https://orbit.dtu.dk/en/publications/fast-matrix-based-computation-of-eigenvalues-and-the-loewner-orde\n",
      "Depth: 1\n",
      "URL: https://orbit.dtu.dk/en/publications/change-detection-in-dual-polarization-sentinel-1-data-with-wilks-\n",
      "Depth: 1\n",
      "URL: https://orbit.dtu.dk/en/publications/combination-of-wishart-test-statistics-and-loewner-order-for-chan\n",
      "Depth: 1\n",
      "URL: https://orbit.dtu.dk/en/publications/fusion-of-satellite-sar-and-passive-microwave-radiometer-data-for\n",
      "Depth: 1\n",
      "URL: https://orbit.dtu.dk/en/publications/omnibus-change-detection-in-block-diagonal-covariance-matrix-pols\n",
      "Depth: 1\n",
      "URL: https://orbit.dtu.dk/en/publications/change-detection-in-single-and-multi-look-polarimetric-sar-data\n",
      "Depth: 1\n",
      "URL: https://orbit.dtu.dk/en/publications/the-eigenvector-eigenvalue-identity-applied-to-fast-calculation-o\n",
      "Depth: 1\n",
      "URL: https://www.imm.dtu.dk/~alan/AGU00fabs.html\n",
      "Depth: 1\n",
      "URL: https://orbit.dtu.dk/en/persons/henning-skriver\n",
      "Depth: 1\n",
      "URL: https://www.imm.dtu.dk/visiondag\n",
      "Depth: 1\n",
      "URL: https://orbit.dtu.dk/en/publications/determining-the-points-of-change-in-time-series-of-polarimetric-sar-data%284255ddb4-1fd9-4d66-9aad-e8049a976d75%29.html\n",
      "Depth: 1\n",
      "URL: https://orbit.dtu.dk/en/persons/knut-conradsen\n",
      "Depth: 1\n",
      "URL: https://orbit.dtu.dk/en/publications/test-statistics-for-reflection-symmetry-applications-to-quad-pola\n",
      "Depth: 1\n",
      "URL: https://www.imm.dtu.dk/~alan\n",
      "Depth: 1\n",
      "URL: https://www.imm.dtu.dk/~alan/AustralAsian96.ps.Z\n",
      "Depth: 1\n",
      "URL: https://www.imm.dtu.dk/~alan/DynamicTestMethodThermal.pdf\n",
      "Depth: 1\n",
      "URL: https://www.imm.dtu.dk/~alan/IGARSS2020_eigvals_correction.pdf\n",
      "Depth: 1\n",
      "URL: https://www.imm.dtu.dk/~alan/DynamicTestMethodEnergy.pdf\n",
      "Depth: 1\n",
      "URL: https://www2.imm.dtu.dk/pubdb/p.php\n",
      "Depth: 1\n",
      "URL: https://www.imm.dtu.dk/~alan/resume.html\n",
      "Depth: 1\n",
      "URL: https://www.imm.dtu.dk/~alan/erim94.pdf\n",
      "Depth: 1\n",
      "URL: https://www.imm.dtu.dk/~alan/deco.html\n",
      "Depth: 1\n",
      "URL: https://www.imm.dtu.dk/~alan/emisar_mad.html\n",
      "Depth: 1\n",
      "URL: https://www.imm.dtu.dk/~alan/fusion98.pdf\n",
      "Depth: 1\n",
      "URL: https://www.imm.dtu.dk/~alan/fusion98.html\n",
      "Depth: 1\n",
      "URL: https://www.imm.dtu.dk/~alan/oresyn99.ps.gz\n",
      "Depth: 1\n",
      "URL: https://www.imm.dtu.dk/~alan/tech-rep-1997-11/frontpage.ps\n",
      "Depth: 1\n",
      "URL: https://www.imm.dtu.dk/~alan/tech-rep-1997-11/report.ps\n",
      "Depth: 1\n",
      "URL: https://www.imm.dtu.dk/~alan/roxann.pdf\n",
      "Depth: 1\n",
      "URL: https://www.imm.dtu.dk/~alan/cafiaabs.html\n",
      "Depth: 1\n",
      "URL: https://www.imm.dtu.dk/~alan/tech-rep-1997-11\n",
      "Depth: 1\n",
      "URL: https://www.imm.dtu.dk/~alan/summary.html\n",
      "Depth: 1\n",
      "URL: https://www.imm.dtu.dk/~alan/dace96a4.pdf\n",
      "Depth: 1\n",
      "URL: https://www.imm.dtu.dk/~alan/visionDay2002.html\n",
      "Depth: 1\n",
      "URL: https://www.imm.dtu.dk/~alan/maviric.ps.gz\n",
      "Depth: 1\n",
      "URL: https://www.imm.dtu.dk/~alan/geosonar.html\n",
      "Depth: 1\n",
      "URL: https://www.imm.dtu.dk/~alan/nobim98b.html\n",
      "Depth: 1\n",
      "URL: https://www.imm.dtu.dk/~alan/nobim98a.html\n",
      "Depth: 1\n"
     ]
    }
   ],
   "source": [
    "!python3 scripts/testcrawler.py \"http://www.imm.dtu.dk/~alan/publications.html\" 1"
   ]
  },
  {
   "cell_type": "markdown",
   "id": "8b2ac292-fa28-4fcb-a5dd-002b50a4fc6e",
   "metadata": {},
   "source": [
    "#### Code for preprocessing the RAG supplementary text"
   ]
  },
  {
   "cell_type": "code",
   "execution_count": 11,
   "id": "c3ad0df7-ee8e-46e9-b238-2399293e17a3",
   "metadata": {},
   "outputs": [],
   "source": [
    "import os\n",
    "import re\n",
    "import ollama\n",
    "from langchain.text_splitter import RecursiveCharacterTextSplitter\n",
    "\n",
    "def readtextfiles(path):\n",
    "    text_contents = {}\n",
    "    directory = os.path.join(path)\n",
    "    \n",
    "    for filename in os.listdir(directory):\n",
    "        if filename.endswith(\".txt\"):\n",
    "            file_path = os.path.join(directory, filename)\n",
    "        \n",
    "            with open(file_path, \"r\", encoding=\"utf-8\") as file:\n",
    "                content = file.read()\n",
    "        \n",
    "            text_contents[filename] = content\n",
    "        \n",
    "        return text_contents\n",
    "\n",
    "def chunksplitter(text, chunk_size=512, chunk_overlap=128):\n",
    "    splitter = RecursiveCharacterTextSplitter(\n",
    "        chunk_size=chunk_size,  # Desired chunk size in tokens\n",
    "        chunk_overlap=chunk_overlap,  # Overlap between chunks\n",
    "        separators=[\"\\n\\n\", \"\\n\", \" \"]  # Split by paragraphs, then sentences, then words\n",
    "    )\n",
    "    return splitter.split_text(text)\n",
    "\n",
    "# use the nomic-embed-text model to calculate vector embeddings for all text chunks\n",
    "def getembedding(chunks):\n",
    "    embeds = ollama.embed(model=\"nomic-embed-text\", input=chunks)\n",
    "    return embeds.get('embeddings', [])"
   ]
  },
  {
   "cell_type": "markdown",
   "id": "2a0f159d-9e67-4f56-af9a-2627d26f042b",
   "metadata": {},
   "source": [
    "#### Add the supplementary text to a new database collection"
   ]
  },
  {
   "cell_type": "code",
   "execution_count": 9,
   "id": "8c45bcb2-4e75-413c-83ca-2c36046d094c",
   "metadata": {},
   "outputs": [],
   "source": [
    "import chromadb\n",
    "#chromaclient = chromadb.PersistentClient(path=\"/home/mort/crc5imagery/crc5rag\")\n",
    "chromaclient = chromadb.PersistentClient(path=\"/home/mort/crc5rag\")\n",
    "chromaclient.delete_collection(\"crc5rag\")\n",
    "collection = chromaclient.create_collection(name=\"crc5rag\", metadata={\"hnsw:space\": \"cosine\"}  )\n",
    "\n",
    "# the RAG supplementary data, here using the llamaparse version of the main pdf\n",
    "textdocspath = \"/home/mort/crc5llamaparse\"\n",
    "text_data = readtextfiles(textdocspath)\n",
    "\n",
    "# read, break into chunks, embed and add to the chroma vector database \n",
    "for filename, text in text_data.items():\n",
    "    # default chunk size 512, overlap 128 \n",
    "    chunks = chunksplitter(text, chunk_size=256, chunk_overlap=32)\n",
    "    embeds = getembedding(chunks)\n",
    "    chunknumber = list(range(len(chunks)))\n",
    "    ids = [filename + str(index) for index in chunknumber]\n",
    "    metadatas = [{\"source\": filename} for index in chunknumber]\n",
    "    collection.add(ids=ids, documents=chunks, embeddings=embeds, metadatas=metadatas)\n"
   ]
  },
  {
   "cell_type": "markdown",
   "id": "a3c9451e-7588-4db5-a87a-d96ee9a152b5",
   "metadata": {},
   "source": [
    "#### Execute a query with llama3.1 or deepseek-r1 and the supplementary text (RAG)"
   ]
  },
  {
   "cell_type": "code",
   "execution_count": 2,
   "id": "d66a69bd-b4a6-4c28-91fc-f4b0ff5a1ef9",
   "metadata": {},
   "outputs": [],
   "source": [
    "%%capture\n",
    "!ollama pull nomic-embed-text\n",
    "#!ollama pull llama3.1\n",
    "!ollama pull deepseek-r1:1.5b"
   ]
  },
  {
   "cell_type": "code",
   "execution_count": 3,
   "id": "807bd52a-fa9b-435e-80a0-95c6c5560909",
   "metadata": {},
   "outputs": [
    {
     "name": "stdout",
     "output_type": "stream",
     "text": [
      "* Running on local URL:  http://127.0.0.1:7860\n",
      "\n",
      "To create a public link, set `share=True` in `launch()`.\n"
     ]
    },
    {
     "data": {
      "text/html": [
       "<div><iframe src=\"http://127.0.0.1:7860/\" width=\"100%\" height=\"500\" allow=\"autoplay; camera; microphone; clipboard-read; clipboard-write;\" frameborder=\"0\" allowfullscreen></iframe></div>"
      ],
      "text/plain": [
       "<IPython.core.display.HTML object>"
      ]
     },
     "metadata": {},
     "output_type": "display_data"
    },
    {
     "data": {
      "text/plain": []
     },
     "execution_count": 3,
     "metadata": {},
     "output_type": "execute_result"
    }
   ],
   "source": [
    "import gradio as gr\n",
    "import html\n",
    "import ollama\n",
    "import chromadb\n",
    "\n",
    "# Initialize ChromaDB client and collection\n",
    "#chromaclient = chromadb.PersistentClient(path=\"/home/mort/crc5imagery/crc5rag\")\n",
    "chromaclient = chromadb.PersistentClient(path=\"/home/mort/crc5rag\")\n",
    "collection = chromaclient.get_collection(name=\"crc5rag\")\n",
    "\n",
    "def ragask(query):\n",
    "    # Embed the query\n",
    "    queryembed = ollama.embed(model=\"nomic-embed-text\", input=query)['embeddings']\n",
    "    # Retrieve related documents\n",
    "    relateddocs = '\\n\\n'.join(collection.query(query_embeddings=queryembed, n_results=16)['documents'][0])\n",
    "    # Generate a response\n",
    "    prompt = f\"Answer the question: {query} referring to the following text as a resource: {relateddocs}\"\n",
    "    response = ollama.generate(model=\"deepseek-r1:14b\", prompt=prompt, stream=False)['response']   \n",
    "    # Ensure the response is valid Markdown\n",
    "    return html.escape(response)\n",
    "\n",
    "# Launch Gradio Interface (ChatInterface not appropriate for RAG application!)\n",
    "gr.Interface(fn=ragask,inputs=gr.Textbox(lines=2, placeholder=\"Enter your question here...\"),\n",
    "             outputs=\"markdown\",\n",
    "             description=\"Ask questions about the book contents\",\n",
    "             title=\"Image Analysis, Classification and Change Detection in Remote Sensing\").launch()"
   ]
  },
  {
   "cell_type": "code",
   "execution_count": null,
   "id": "0155124d-17bd-47dd-85cb-7ff45a7b54b7",
   "metadata": {},
   "outputs": [],
   "source": []
  }
 ],
 "metadata": {
  "kernelspec": {
   "display_name": "Python 3 (ipykernel)",
   "language": "python",
   "name": "python3"
  },
  "language_info": {
   "codemirror_mode": {
    "name": "ipython",
    "version": 3
   },
   "file_extension": ".py",
   "mimetype": "text/x-python",
   "name": "python",
   "nbconvert_exporter": "python",
   "pygments_lexer": "ipython3",
   "version": "3.10.12"
  }
 },
 "nbformat": 4,
 "nbformat_minor": 5
}
