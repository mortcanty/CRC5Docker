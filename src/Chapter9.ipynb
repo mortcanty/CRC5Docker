{
 "cells": [
  {
   "cell_type": "markdown",
   "metadata": {
    "editable": true,
    "slideshow": {
     "slide_type": ""
    },
    "tags": []
   },
   "source": [
    "# Notebook examples for Chapter 9\n",
    "# Change Detection\n",
    "When comparing multispectral images of a given scene taken\n",
    "at different times, it is  desirable to correct the pixel\n",
    "intensities as much as possible for uninteresting differences such\n",
    "as those due to solar illumination, atmospheric conditions, viewing angle, terrain effects or sensor\n",
    "calibration. In the case of SAR imagery, solar illumination or cloud cover play no role, but other considerations are similarly important.\n",
    "If comparison is on a pixel-by-pixel basis, then the\n",
    "images must also be co-registered to high accuracy in order to\n",
    "avoid spurious signals resulting from misalignment. Some of\n",
    "the required preprocessing steps were discussed in Chapter 5. \n",
    "After having performed the necessary preprocessing, it is common\n",
    "to examine various functions of the spectral bands involved\n",
    "(differences, ratios or linear combinations) which in some way\n",
    "bring the change information contained within them to the fore.\n",
    "Large changes are often evident at a glance. However, other changes may\n",
    "have occurred between the acquisition times and require more image processing to be clearly distinguished. This Chapter describes some commonly used  techniques for enhancing\n",
    "change signals in bi-temporal satellite images and then focuses attention  on the  _multivariate alteration\n",
    "detection_ (MAD) algorithm  for visible/infrared imagery and on a sequential change statistic for polarimetric SAR data based on the complex Wishart distribution. The Chapter\n",
    "concludes with an inverse application of change detection,\n",
    "in which _unchanged_ pixels are used for automatic\n",
    "relative radiometric normalization of multi-temporal imagery."
   ]
  },
  {
   "cell_type": "code",
   "execution_count": 1,
   "metadata": {},
   "outputs": [],
   "source": [
    "import ee\n",
    "ee.Authenticate()\n",
    "ee.Initialize()\n",
    "%matplotlib inline"
   ]
  },
  {
   "cell_type": "code",
   "execution_count": null,
   "metadata": {},
   "outputs": [],
   "source": [
    "run auxil/subset -d [200,200,1000,1000] imagery/LT5_19980516.tif "
   ]
  },
  {
   "cell_type": "code",
   "execution_count": null,
   "metadata": {},
   "outputs": [],
   "source": [
    "run auxil/subset -d [200,200,1000,1000] imagery/LT5_19980329.tif "
   ]
  },
  {
   "cell_type": "code",
   "execution_count": null,
   "metadata": {},
   "outputs": [],
   "source": [
    "%run scripts/dispms -f imagery/LT5_19980329_sub.tif -e 4 -p [4,5,7] \\\n",
    "-F imagery/LT5_19980516_sub.tif -E 4 -P [4,5,7] \\\n",
    "#-s '/home/mort/LaTeX/new projects/CRC5/Chapter9/fig9_1.eps'"
   ]
  },
  {
   "cell_type": "markdown",
   "metadata": {},
   "source": [
    "## 9.1 Naive methods"
   ]
  },
  {
   "cell_type": "code",
   "execution_count": null,
   "metadata": {},
   "outputs": [],
   "source": [
    "import ee\n",
    "import IPython.display as disp\n",
    "\n",
    "ee.Initialize()\n",
    "\n",
    "im1 = ee.Image('projects/ee-mortcanty/assets/CRC5/LT5_19980329_sub')\n",
    "im2 = ee.Image('projects/ee-mortcanty/assets/CRC5/LT5_19980516_sub')\n",
    "ndvi1 = im1.normalizedDifference(['b4', 'b3'])\n",
    "ndvi2 = im2.normalizedDifference(['b4', 'b3'])\n",
    "url = ndvi1.subtract(ndvi2) \\\n",
    "   .getThumbURL({'min':-0.3,'max':0.3})\n",
    "disp.Image(url=url)"
   ]
  },
  {
   "cell_type": "markdown",
   "metadata": {},
   "source": [
    "## 9.2 Principal components analysis (PCA)\n",
    "### 9.2.1 Iterated PCA"
   ]
  },
  {
   "cell_type": "code",
   "execution_count": null,
   "metadata": {},
   "outputs": [],
   "source": [
    "import numpy as np\n",
    "from osgeo import gdal\n",
    "from osgeo.gdalconst import GA_ReadOnly\n",
    "import matplotlib.pyplot as plt\n",
    "\n",
    "gdal.AllRegister()\n",
    "infile = 'imagery/LT5_19980329.tif'                 \n",
    "inDataset = gdal.Open(infile,GA_ReadOnly)     \n",
    "cols = inDataset.RasterXSize\n",
    "rows = inDataset.RasterYSize    \n",
    "band = inDataset.GetRasterBand(4)  \n",
    "G1 = band.ReadAsArray(0,0,cols,rows).flatten()\n",
    "infile = 'imagery/LT5_19980516.tif'                 \n",
    "inDataset = gdal.Open(infile,GA_ReadOnly)       \n",
    "band = inDataset.GetRasterBand(4)  \n",
    "G2 = band.ReadAsArray(0,0,cols,rows).flatten()\n",
    "idx = np.random.randint(0,rows*cols,10000)\n",
    "p = plt.plot(G1[idx],G2[idx],'.')\n",
    "#plt.savefig('/home/mort/LaTeX/new projects/CRC5/Chapter9/fig9_3.eps',bbox_inches='tight')"
   ]
  },
  {
   "cell_type": "code",
   "execution_count": null,
   "metadata": {},
   "outputs": [],
   "source": [
    "run scripts/ex9_1 imagery/LT5_19980329_sub.tif imagery/LT5_19980516_sub.tif"
   ]
  },
  {
   "cell_type": "markdown",
   "metadata": {},
   "source": [
    "### 9.2.2 Kernel PCA"
   ]
  },
  {
   "cell_type": "markdown",
   "metadata": {},
   "source": [
    "## 9.3 Multivariate Alteration Detection\n",
    "### 9.3.1 Canonical correlation analysis (CCA)\n",
    "### 9.3.2 Orthogonality properties\n",
    "### 9.3.3 Iteratively re-weighted MAD"
   ]
  },
  {
   "cell_type": "code",
   "execution_count": null,
   "metadata": {},
   "outputs": [],
   "source": [
    "# Run the iMAD transformation\n",
    "%run scripts/iMad -i 50 imagery/LT5_19980329_sub.tif \\\n",
    "                         imagery/LT5_19980516_sub.tif\n",
    "# Set a significance level and calculate change map\n",
    "%run scripts/iMadmap -m \\\n",
    "imagery/MAD(LT5_19980329_sub-LT5_19980516_sub).tif 0.0001"
   ]
  },
  {
   "cell_type": "code",
   "execution_count": null,
   "metadata": {},
   "outputs": [],
   "source": [
    "%run scripts/dispms -f imagery/MAD(LT5_19980329_sub-LT5_19980516_sub)_cmap.tif -e 3 -p [1,2,3] \\\n",
    "#-s '/home/mort/LaTeX/new projects/CRC5/Chapter9/fig9_6.eps'"
   ]
  },
  {
   "cell_type": "markdown",
   "metadata": {},
   "source": [
    "### 9.3.4 Scale invariance\n",
    "### 9.3.5 Regularization\n",
    "### 9.3.6 Post processing\n",
    "### 9.3.7 Unsupervised change classification"
   ]
  },
  {
   "cell_type": "code",
   "execution_count": null,
   "metadata": {},
   "outputs": [],
   "source": [
    "%run scripts/dispms -f imagery/LE7_20010626.tif -e 3 -p[4,5,6] -F imagery/LE7_20010829.tif -E 3 -P [4,5,6] \\\n",
    "#-s '/home/mort/LaTeX/new projects/CRC5/Chapter9/fig9_8.eps'\n"
   ]
  },
  {
   "cell_type": "code",
   "execution_count": null,
   "metadata": {},
   "outputs": [],
   "source": [
    "%run scripts/iMad -i 50 imagery/LE7_20010626.tif \\\n",
    "                         imagery/LE7_20010829.tif"
   ]
  },
  {
   "cell_type": "code",
   "execution_count": null,
   "metadata": {},
   "outputs": [],
   "source": [
    "%run scripts/iMadmap imagery/MAD(LE7_20010626-LE7_20010829).tif 0.0001"
   ]
  },
  {
   "cell_type": "code",
   "execution_count": null,
   "metadata": {},
   "outputs": [],
   "source": [
    "%run scripts/dispms -f imagery/MAD(LE7_20010626-LE7_20010829)_cmap.tif -e 4 -p [1,2,3] \\\n",
    "#-s '/home/mort/LaTeX/new projects/CRC5/Chapter9/fig9_9.eps'"
   ]
  },
  {
   "cell_type": "code",
   "execution_count": null,
   "metadata": {},
   "outputs": [],
   "source": [
    "run scripts/em -K 4  imagery/MAD(LE7_20010626-LE7_20010829).tif"
   ]
  },
  {
   "cell_type": "code",
   "execution_count": null,
   "metadata": {},
   "outputs": [],
   "source": [
    "%run scripts/dispms -f imagery/MAD(LE7_20010626-LE7_20010829)_em.tif -c -d [400,0,200,200] \\\n",
    "-F imagery/LE7_20010829 -E 4 -D [400,0,200,200] -P [4,4,4] \\\n",
    "#-s '/home/mort/LaTeX/new projects/CRC5/Chapter9/fig9_10.eps'"
   ]
  },
  {
   "cell_type": "markdown",
   "metadata": {},
   "source": [
    "### 9.3.8 iMAD on the Google Earth Engine"
   ]
  },
  {
   "cell_type": "code",
   "execution_count": null,
   "metadata": {},
   "outputs": [],
   "source": [
    "import ee, math, time\n",
    "from ipyleaflet import (Map,DrawControl,TileLayer)\n",
    "from auxil.eeMad import imad\n",
    "ee.Initialize()\n",
    "\n",
    "def handle_draw(self, action, geo_json):\n",
    "    global poly\n",
    "    if action == 'created':\n",
    "        coords =  geo_json['geometry']['coordinates']\n",
    "        poly = ee.Geometry.Polygon(coords)\n",
    "        \n",
    "dc = DrawControl()\n",
    "dc.on_draw(handle_draw)\n",
    "\n",
    "def GetTileLayerUrl(ee_image_object):\n",
    "  map_id = ee.Image(ee_image_object).getMapId()\n",
    "  tile_fetcher = map_id['tile_fetcher']\n",
    "  return tile_fetcher.url_format    "
   ]
  },
  {
   "cell_type": "markdown",
   "metadata": {},
   "source": [
    "#### Draw the map"
   ]
  },
  {
   "cell_type": "code",
   "execution_count": null,
   "metadata": {},
   "outputs": [],
   "source": [
    "m = Map(center=[50.9, 6.4], zoom=11)\n",
    "m.add_control(dc)\n",
    "\n",
    "m"
   ]
  },
  {
   "cell_type": "markdown",
   "metadata": {},
   "source": [
    "#### iMAD wrapper function"
   ]
  },
  {
   "cell_type": "code",
   "execution_count": null,
   "metadata": {},
   "outputs": [],
   "source": [
    "def iMad(cid,poly,sd1,ed1,sd2,ed2,bns,maxitr):\n",
    "    collection = ee.ImageCollection(cid) \\\n",
    "         .filterBounds(poly) \\\n",
    "         .filterDate(ee.Date(sd1), ee.Date(ed1)) \\\n",
    "         .sort('system:time_start',False)\n",
    "    image1 = ee.Image(collection.first()).select(bns)\n",
    "    collection = ee.ImageCollection(cid) \\\n",
    "         .filterBounds(poly) \\\n",
    "         .filterDate(ee.Date(sd2), ee.Date(ed2)) \\\n",
    "         .sort('system:time_start',False)                   \n",
    "    image2 = ee.Image(collection.first()).select(bns) \n",
    "    image2 = image2.register(image1,60)\n",
    "    inputlist = ee.List.sequence(1,maxitr)\n",
    "    first = ee.Dictionary({'done':ee.Number(0),\n",
    "          'image':image1.addBands(image2).clip(poly),\n",
    "          'allrhos': [ee.List.sequence(1,len(bns))],\n",
    "          'chi2':ee.Image.constant(0),\n",
    "          'MAD':ee.Image.constant(0)}) \n",
    "    madnames = ['MAD'+str(i+1) for i in range(len(bns))]\n",
    "#  run the algorithm    \n",
    "    result = ee.Dictionary(inputlist.iterate(imad,first))                \n",
    "    MAD = ee.Image(result.get('MAD')).rename(madnames)\n",
    "    return MAD"
   ]
  },
  {
   "cell_type": "markdown",
   "metadata": {},
   "source": [
    "#### Input data\n",
    "Before executing this cell, select a polynomial on the map."
   ]
  },
  {
   "cell_type": "code",
   "execution_count": null,
   "metadata": {},
   "outputs": [],
   "source": [
    "collectionid = 'LANDSAT/LE07/C02/T1_RT_TOA'\n",
    "bandNames = ['B1','B2','B3','B4','B5','B7']\n",
    "startDate1 = '2001-06-25'\n",
    "endDate1 = '2001-06-27'\n",
    "startDate2 = '2001-08-28'\n",
    "endDate2 = '2001-08-30'\n",
    "maxitr = 50\n",
    "MAD = iMad(collectionid,poly,startDate1,\n",
    "           endDate1,startDate2,endDate2,\n",
    "           bandNames,maxitr)"
   ]
  },
  {
   "cell_type": "markdown",
   "metadata": {},
   "source": [
    "#### Display on map"
   ]
  },
  {
   "cell_type": "code",
   "execution_count": null,
   "metadata": {},
   "outputs": [],
   "source": [
    "m.add_layer(\n",
    "    TileLayer(url=GetTileLayerUrl(\n",
    "        MAD.select('MAD1').visualize(min=-3, max=3) )) )"
   ]
  },
  {
   "cell_type": "markdown",
   "metadata": {},
   "source": [
    "#### Export to assets"
   ]
  },
  {
   "cell_type": "code",
   "execution_count": null,
   "metadata": {},
   "outputs": [],
   "source": [
    "assexportname = 'projects/<your project>/assets/<asset name>'\n",
    "assexport = ee.batch.Export.image.toAsset(MAD,\n",
    "           description='assetExportTask', \n",
    "           assetId=assexportname,scale=30,maxPixels=1e9)\n",
    "assexportid = str(assexport.id)\n",
    "print '****Exporting to Assets, task id: %s'%assexportid\n",
    "assexport.start() "
   ]
  },
  {
   "cell_type": "markdown",
   "metadata": {},
   "source": [
    "### iMAD Widget Interface "
   ]
  },
  {
   "cell_type": "code",
   "execution_count": 1,
   "metadata": {},
   "outputs": [
    {
     "data": {
      "application/vnd.jupyter.widget-view+json": {
       "model_id": "c2867c2880124638a4284a1dfb0815c2",
       "version_major": 2,
       "version_minor": 0
      },
      "text/plain": [
       "Map(center=[51.0, 6.4], controls=(MeasureControl(options=['active_color', 'capture_z_index', 'completed_color'…"
      ]
     },
     "metadata": {},
     "output_type": "display_data"
    },
    {
     "data": {
      "application/vnd.jupyter.widget-view+json": {
       "model_id": "43cacbbebdd941f78aa217a37e2d4044",
       "version_major": 2,
       "version_minor": 0
      },
      "text/plain": [
       "VBox(children=(HBox(children=(RadioButtons(description='Platform:', options=('SENTINEL/S2(VNIR)', 'SENTINEL/S2…"
      ]
     },
     "execution_count": 1,
     "metadata": {},
     "output_type": "execute_result"
    }
   ],
   "source": [
    "## Run the interface.\n",
    "import ee\n",
    "ee.Initialize()\n",
    "from auxil.application_imad import run\n",
    "run()"
   ]
  },
  {
   "cell_type": "markdown",
   "metadata": {},
   "source": [
    "#### How to use the interface\n",
    "\n",
    "#### Walk through\n",
    "\n",
    "To get started, we'll generate a small iMAD change map. In the widget interface above, choose **Platform** SENTINEL/S2(VNIR), leaving all other settings as is. Select a small area of interest (aoi) near the town of Jülich with the rectangular or polygon **draw tool**, trying to include some forested areas. Click **Collect** to obtain the two most cloud-free images acquired within the **Start/T1 - End/T1** and **Start/T2 - End/T2** intervals chosen, the details of which are printed in the info box at the bottom. The raster overlay shows the two images, clipped to the aoi. This will enable the **Preview**, **ToAssets**, **ToDrive** and **ToCloud** buttons.\n",
    "\n",
    "The **Preview** button will  now trigger the iterated MAD change detection algorithm, which will run in the foreground to convergence or until the **Max iter** value is reached (or until a timeout if the chosen area is too large). The change map is displayed, showing, for each pixel, the color-coded degree of change. For successful convergence gray equates to no-change. The info box will now display the band-wise canonical correlations (final values and iteration graph) as well as the radiometric normalization parameters.\n",
    "\n",
    "#### The widgets\n",
    "\n",
    "**Platform:** Choose the satellite platform (Sentinel-2 visual and near infrared, Sentinel-2 near and short wave infrared, or Landsat-8)\n",
    "\n",
    "**Start/End T1:** Search interval for the acquisition time of the first image.\n",
    "\n",
    "**Start/End T2.** Search interval for the acquisition time of the second image.\n",
    "\n",
    "**Max iter:** Maximum number of iterations of the MAD algorithm.\n",
    "\n",
    "**Scale:** Spatial resolution (default 10m for S2(VNIR), otherwise 20m.\n",
    "\n",
    "**Significance:** P-value below which an obsevation is interpreted as change.\n",
    "\n",
    "**Collect:** Initialize search for desired images. In the case of more than one, the image with lowest cloud cover is chosen.\n",
    "\n",
    "**Preview** Run the iMAD algorithm as a foreground task on the GEE.\n",
    "\n",
    "**ToAssets/ToDrive/ToCloud:** Run the iMAD algorithm as a background task saving the results to GEE assets, to the users Google Drive, or as a cloud storage bucket.\n",
    "\n",
    "**Review:** Display the results if they are stored on GEE assets.\n",
    "\n",
    "**K-Means:** Perform an unsupervised classification (K-means clustering) of the iMAD image stored on GEE assets.\n",
    "\n",
    "**Clusters:** The number of clusters.\n",
    "\n",
    "**Reset:** Resaet all displayed images. After this a new polygon must be defined to cintinue work.\n",
    "\n",
    "**GoTo:** Move the Map center to a new location.\n"
   ]
  },
  {
   "cell_type": "markdown",
   "metadata": {},
   "source": [
    "## 9.4 Change detection with polarimetric SAR imagery\n",
    "### 9.4.1 Scalar imagery: the gamma distribution\n",
    "Bi-temporal data: The Frankfurt Airport and a subset with no-change"
   ]
  },
  {
   "cell_type": "code",
   "execution_count": null,
   "metadata": {},
   "outputs": [],
   "source": [
    "geoJSON = {\n",
    "  \"type\": \"FeatureCollection\",\n",
    "  \"features\": [\n",
    "    {\n",
    "      \"type\": \"Feature\",\n",
    "      \"properties\": {},\n",
    "      \"geometry\": {\n",
    "        \"type\": \"Polygon\",\n",
    "        \"coordinates\": [\n",
    "          [\n",
    "            [\n",
    "              8.473892211914062,\n",
    "              49.98081240937428\n",
    "            ],\n",
    "            [\n",
    "              8.658599853515625,\n",
    "              49.98081240937428\n",
    "            ],\n",
    "            [\n",
    "              8.658599853515625,\n",
    "              50.06066538593667\n",
    "            ],\n",
    "            [\n",
    "              8.473892211914062,\n",
    "              50.06066538593667\n",
    "            ],\n",
    "            [\n",
    "              8.473892211914062,\n",
    "              49.98081240937428\n",
    "            ]\n",
    "          ]\n",
    "        ]\n",
    "      }\n",
    "    }\n",
    "  ]\n",
    "}\n",
    "coords = geoJSON['features'][0]['geometry']['coordinates']\n",
    "aoi = ee.Geometry.Polygon(coords)\n",
    "geoJSON = {\n",
    "  \"type\": \"FeatureCollection\",\n",
    "  \"features\": [\n",
    "    {\n",
    "      \"type\": \"Feature\",\n",
    "      \"properties\": {},\n",
    "      \"geometry\": {\n",
    "        \"type\": \"Polygon\",\n",
    "        \"coordinates\": [\n",
    "          [\n",
    "            [\n",
    "              8.534317016601562,\n",
    "              50.021637833966786\n",
    "            ],\n",
    "            [\n",
    "              8.530540466308594,\n",
    "              49.99780882512238\n",
    "            ],\n",
    "            [\n",
    "              8.564186096191406,\n",
    "              50.00663576154257\n",
    "            ],\n",
    "            [\n",
    "              8.578605651855469,\n",
    "              50.019431940583104\n",
    "            ],\n",
    "            [\n",
    "              8.534317016601562,\n",
    "              50.021637833966786\n",
    "            ]\n",
    "          ]\n",
    "        ]\n",
    "      }\n",
    "    }\n",
    "  ]\n",
    "}\n",
    "coords = geoJSON['features'][0]['geometry']['coordinates']\n",
    "aoi_sub = ee.Geometry.Polygon(coords)"
   ]
  },
  {
   "cell_type": "markdown",
   "metadata": {},
   "source": [
    "Filter the S1 archive to get an image collection consisting of two images acquired in the month of August, 2020. Because we are interested in change detection, it is essential that the local incidence angles be the same in both images. So we specify both the orbit pass (ASCENDING) as well the relative orbit number (15):"
   ]
  },
  {
   "cell_type": "code",
   "execution_count": null,
   "metadata": {},
   "outputs": [],
   "source": [
    "im_coll = (ee.ImageCollection('COPERNICUS/S1_GRD_FLOAT')\n",
    "                .filterBounds(aoi)\n",
    "                .filterDate(ee.Date('2020-08-01'),ee.Date('2020-08-31'))\n",
    "                .filter(ee.Filter.eq('orbitProperties_pass', 'ASCENDING'))\n",
    "                .filter(ee.Filter.eq('relativeOrbitNumber_start', 15))\n",
    "                .sort('system:time_start'))\n",
    "# acquisition times\n",
    "import time\n",
    "acq_times = im_coll.aggregate_array('system:time_start').getInfo()\n",
    "[time.strftime('%x', time.gmtime(acq_time/1000)) for acq_time in acq_times]"
   ]
  },
  {
   "cell_type": "markdown",
   "metadata": {},
   "source": [
    "Select the first two images and extract the VV bands, clipping them to aoi_sub. Take their ratio and plot its histogram compared to the F-distribution with 2m and 2m degrees of freedom (m=5 in this case):"
   ]
  },
  {
   "cell_type": "code",
   "execution_count": null,
   "metadata": {},
   "outputs": [],
   "source": [
    "from scipy.stats import norm, gamma, f, chi2\n",
    "\n",
    "im_list = im_coll.toList(im_coll.size())\n",
    "im1 = ee.Image(im_list.get(0)).select('VV').clip(aoi_sub)\n",
    "im2 = ee.Image(im_list.get(1)).select('VV').clip(aoi_sub)\n",
    "\n",
    "ratio = im1.divide(im2)\n",
    "\n",
    "hist = ratio.reduceRegion(ee.Reducer.fixedHistogram(0, 5, 500), aoi_sub).get('VV').getInfo()\n",
    "mean = ratio.reduceRegion(ee.Reducer.mean(), aoi_sub).get('VV').getInfo()\n",
    "variance = ratio.reduceRegion(ee.Reducer.variance(), aoi_sub).get('VV').getInfo()\n",
    "\n",
    "a = np.array(hist)\n",
    "x = a[:, 0]                 # array of bucket edge positions\n",
    "y = a[:, 1]/np.sum(a[:, 1]) # normalized array of bucket contents\n",
    "\n",
    "m = 5\n",
    "plt.grid()\n",
    "plt.plot(x, y, '.', label='data')\n",
    "plt.plot(x, f.pdf(x, 2*m, 2*m) / 100, '-r', label='F-dist')\n",
    "plt.legend()\n",
    "plt.show()"
   ]
  },
  {
   "cell_type": "markdown",
   "metadata": {},
   "source": [
    "### 9.4.2 Polarimetric imagery: The complex Wishart distribution\n",
    "### 9.4.3 Python software"
   ]
  },
  {
   "cell_type": "code",
   "execution_count": null,
   "metadata": {},
   "outputs": [],
   "source": [
    "%run scripts/enlml.py -d [200,200,600,600] imagery/S1A_IW_SLC__1SDV_20141108T054351_20141108T054421_003186_003AB4_B367.tif"
   ]
  },
  {
   "cell_type": "code",
   "execution_count": null,
   "metadata": {},
   "outputs": [],
   "source": [
    "%run scripts/dispms -f imagery/S1A_IW_SLC__1SDV_20141108T054351_20141108T054421_003186_003AB4_B367_enl.tif -e 2 -p [1,1,1] "
   ]
  },
  {
   "cell_type": "code",
   "execution_count": null,
   "metadata": {},
   "outputs": [],
   "source": [
    "!cat scripts/run_sar_seqQ.sh"
   ]
  },
  {
   "cell_type": "code",
   "execution_count": null,
   "metadata": {},
   "outputs": [],
   "source": [
    "!ipcluster start -n 4 --daemonize"
   ]
  },
  {
   "cell_type": "code",
   "execution_count": null,
   "metadata": {},
   "outputs": [],
   "source": [
    "# Dual pol Sentinel-1\n",
    "!/bin/bash scripts/run_sar_seqQ.sh S1A imagery/ 12 0.0001"
   ]
  },
  {
   "cell_type": "code",
   "execution_count": null,
   "metadata": {},
   "outputs": [],
   "source": [
    "%run scripts/dispms -f imagery/S1A_IW_SLC__1SDV_20141108T054351_20141108T054421_003186_003AB4_B367.tif -p [4,1,1] -d [200,200,600,600] \\\n",
    "#-s '/home/mort/LaTeX/new projects/CRC5/Chapter9/fig9_17.eps'"
   ]
  },
  {
   "cell_type": "code",
   "execution_count": null,
   "metadata": {},
   "outputs": [],
   "source": [
    "%run scripts/dispms -f  imagery/sarseqQ_smap.tif -c -d [600,200,400,400] \\\n",
    "#-s '/home/mort/LaTeX/new projects/CRC5/Chapter9/fig9_18.eps'"
   ]
  },
  {
   "cell_type": "code",
   "execution_count": null,
   "metadata": {},
   "outputs": [],
   "source": [
    "# Quad pol RadarSat-2\n",
    "!/bin/bash scripts/run_sar_seqQ.sh T20 imagery/ 12 0.0001"
   ]
  },
  {
   "cell_type": "code",
   "execution_count": null,
   "metadata": {},
   "outputs": [],
   "source": [
    "%run scripts/dispms -f imagery/sarseqQ_fmap.tif -c -d [200,200,400,400] \\\n",
    "-F imagery/T20100426.tif -P [1,6,9]  -D [200,200,400,400] \\\n",
    "#-s '/home/mort/LaTeX/new projects/CRC5/Chapter9/fig9_19.eps'"
   ]
  },
  {
   "cell_type": "code",
   "execution_count": null,
   "metadata": {},
   "outputs": [],
   "source": [
    "# Dual pol Sentinel-1 diagonal only (as in GEE archive)\n",
    "!/bin/bash scripts/run_sar_seqQ.sh Ta20 imagery/ 4.4 0.0001"
   ]
  },
  {
   "cell_type": "code",
   "execution_count": null,
   "metadata": {},
   "outputs": [],
   "source": [
    "%run scripts/dispms -f imagery/sarseqQ_fmap.tif -c  \\\n",
    "-F imagery/Ta20180406_1.tif -P [2,1,1]  "
   ]
  },
  {
   "cell_type": "code",
   "execution_count": null,
   "metadata": {},
   "outputs": [],
   "source": [
    "!ipcluster stop"
   ]
  },
  {
   "cell_type": "markdown",
   "metadata": {},
   "source": [
    "### 9.4.4 SAR change detection on the Google Earth Engine"
   ]
  },
  {
   "cell_type": "code",
   "execution_count": 1,
   "metadata": {},
   "outputs": [
    {
     "data": {
      "application/vnd.jupyter.widget-view+json": {
       "model_id": "1ef8893479f84aa29b3fa944b41ee1b7",
       "version_major": 2,
       "version_minor": 0
      },
      "text/plain": [
       "Map(center=[50.9220931, 6.3611015], controls=(DrawControl(options=['position'], polygon={'shapeOptions': {'fil…"
      ]
     },
     "metadata": {},
     "output_type": "display_data"
    },
    {
     "data": {
      "application/vnd.jupyter.widget-view+json": {
       "model_id": "c895d533f9fc4b7d9449404da60eeb27",
       "version_major": 2,
       "version_minor": 0
      },
      "text/plain": [
       "VBox(children=(HBox(children=(RadioButtons(description='Platform:', index=1, layout=Layout(width='200px'), opt…"
      ]
     },
     "execution_count": 1,
     "metadata": {},
     "output_type": "execute_result"
    }
   ],
   "source": [
    "## Run the interface.\n",
    "import ee\n",
    "ee.Initialize()\n",
    "from auxil.application_sarseq import run\n",
    "run()"
   ]
  },
  {
   "cell_type": "markdown",
   "metadata": {},
   "source": [
    "#### How to use the interface\n",
    "\n",
    "#### Caveat\n",
    "\n",
    "*The sequential SAR change detection method that is described in Chapter 9, Section 9.4 is _pixel-oriented_. That is to say, it is based entirely on the statistical properties of each and every multi-look pixel in the observed image series. For this reason it is best to limit analysis to a region less than a few thousand square kilometers while interactively visualizing and exploring results using this notebook. Furthermore, since we are analysing time series for changes, the reflectance images involved must all completely overlap the region of interest and have been irradiated from the same position in space. This means choosing either ascending **or** descending node, and only **one** relative orbit number for any given sequence.*\n",
    "\n",
    "#### Walk through\n",
    "\n",
    "To get started, let's see how to generate a small change map. In the widget interface above, choose **Platform** A, leaving all other settings as is. Select a small area of interest (aoi) near the town of Jülich with the rectangular or polygon **draw tool**. This will enable the **Collect** button. Click it to collect an image series, the details of which are printed in the info box at the bottom. The raster overlay shows the complete swath of the last image in the sequence. When the overlay is fully rendered, the **Preview** button is enabled.\n",
    "\n",
    "**Note:** Depending on the position of the aoi, two relative orbit numbers may be displayed (88 and 15). If so, in the corresponding **RelOrbit** field choose either of them and re-collect.\n",
    "\n",
    "The **Preview** button will  now trigger the change detection algorithm at the scale selected by the current zoom setting. The color coded change map is displayed, showing, for each pixel, the interval within the series of the **First** detected change (palette = 'black, blue, cyan, yellow, red' indicating early in the series through to late). The map displayed is set by the Radio Button next to **Preview**.  Since processing is carried out in parallel, the change image is built up tile-by-tile. The zoom setting can falsify the result somewhat, depending on the pyramid level at which the calculation is carried out. Nevertheless it is often convenient for generating a quick overview. You can see the effect by zooming in and out. De-select the **QuickPreview** check box to override it. Now the calculation is carried out at the full 10 m pixel scale irrespective of the zoom level chosen, but can take considerably longer.\n",
    "\n",
    "If and when you are satisfied with the previewed result, you can export the change maps to your GEE cloud assets with the **ExportToAssets**  or to your Google Drive with the **ExportToDrive** buttons, see below.\n",
    "\n",
    "#### The widgets\n",
    "\n",
    "**Platform:** Choose one or both of the Sentinel-1 satellites.\n",
    "\n",
    "**Pass:** Choose ascending or descending node.\n",
    "\n",
    "**RelOrbit:** Choose relative orbit number. If set to 0 all orbit numbers are included with images which overlap with the area of interest.\n",
    "\n",
    "**StartDate:** Beginning of collected time series.\n",
    "\n",
    "**EndDate:** End of collected time series.\n",
    "\n",
    "**Collect:** Start collection, enabled when an area of interest has been chosen. Upon completion the last Sentinel-1 image in the sequence is displayed.\n",
    "\n",
    "**Signif:** Choose a significance level for the [likelihood ratio test](https://developers.google.com/earth-engine/tutorials/community/detecting-changes-in-sentinel-1-imagery-pt-2#the_likelihood_ratio_test).\n",
    "\n",
    "**MedianFilter:** Run a 3x3 median filter over the change map before displaying or exporting.\n",
    "\n",
    "**Stride:** Select only a subset of the collected sequence. For example, the value 3 will collect every third image in the sequence.\n",
    "\n",
    "**View:** Display the most cloud-free Sentinel-2 image or a NAIP image (available only within the continental US) found within the chosen time period.\n",
    "\n",
    "**ExportToAssets:** Creates and runs a batch task to export a change map image as a raster to an Earth Engine asset.  For a time series of $k$ images, the exported change map consists of $k+2$ bands, namely\n",
    "- cmap: the interval* of the most recent change, one band, byte values $\\in [0,k-1]$, where 0 = no change.\n",
    "- smap: the interval of the first change, one band, byte values $\\in [0,k-1]$, where 0 = no change.\n",
    "- fmap: the number of changes, one band, byte values $\\in [0,k-1]$, where 0 = no changes.\n",
    "- bmap: the changes in each interval, $\\ k-1$ bands, byte values $\\in [0,3]$, where 0 = no change, 1 = positive definite change, 2 = negative definite change, 3 = indefinite change.\n",
    "\n",
    "*Two successive acquisition times in the series.\n",
    "\n",
    "**ExportToDrive:** Sends the change map described above to Drive storage in GeoTIFF format.\n",
    "\n",
    "**Preview:** Run the change detection algorithm and preview results according to the chosen settings (often slow, depending upon series length, zoom level and size of the aoi).\n",
    "\n",
    "**ReviewAsset:** Display a currently selected change map asset according to the chosen settings (very fast, since calculations have already been performed).\n",
    "- Bitemp: Preview (or ReviewAsset) the change map for one interval (black = no change, red = positive definite, cyan = negative definite, yellow = indefinite).\n",
    "- First: Preview (or ReviewAsset) the smap band (palette = 'black, blue, cyan, yellow, red' indicating no change, early in the series through to late).\n",
    "- Last: Preview (or ReviewAsset) the cmap band (palette = 'black, blue, cyan, yellow, red' indicating no change, early in the series through to late).\n",
    "- Frequency: Preview (or ReviewAsset) the fmap band (palette = 'black, blue, cyan, yellow, red' indicating no change, few changes through to many).\n",
    "- Plot: ReviewAsset a plot of the proportion of change pixels in the bmap bands of the selected asset as a function of time.\n",
    "- ATSF: Preview (or ReviewAsset) the ATSF filtered series\n",
    "\n",
    "**MaxFreq:** The number of changes in the frequency map which corresponds to  'red' or 'many'.\n",
    "\n",
    "**MinFreq:** The frequency below which changes are masked out.\n",
    "\n",
    "**BitempInt:** Choose the time interval for the previewed Bitemporal map.\n",
    "\n",
    "**NCMask:** Mask out (make transparent) the no change pixels in the Preview (or ReviewAsset) overlays.\n",
    "\n",
    "**WaterMask:** Mask out (make transparent) the water pixels in the Preview (or ReviewAsset) overlays.\n",
    "\n",
    "**NoBuildingsMask:** Mask out (make transparent) areas outside population centers in the Preview (or ReviewAsset) overlays.\n",
    "\n",
    "**QuickPreview:** When set, calculate the Preview at the pyramid level corresponding to the current zoom level. Otherwise use the native scale of 10 m.\n",
    "\n",
    "**Reset:** Clear the output window and erase all layers.\n",
    "\n",
    "**GoTo:** Jump to a geographic location."
   ]
  },
  {
   "cell_type": "markdown",
   "metadata": {},
   "source": [
    "## 9.5 Radiometric normalization of visual/infra-red images\n",
    "### 9.5.1 Scatter plot matching\n",
    "### 9.5.2 Automatic radiometric normalization"
   ]
  },
  {
   "cell_type": "code",
   "execution_count": null,
   "metadata": {},
   "outputs": [],
   "source": [
    "%run scripts/dispms  -f imagery/AST_20010409 -e 1 -p [1,2,3] \\\n",
    "-F imagery/AST_20050911 -E 1 -P [1,2,3] \\\n",
    "#-s '/home/mort/LaTeX/new projects/CRC5/Chapter9/fig9_20.eps'"
   ]
  },
  {
   "cell_type": "code",
   "execution_count": null,
   "metadata": {},
   "outputs": [],
   "source": [
    "%run scripts/iMad -p [1,2,3] imagery/AST_20010409 imagery/AST_20050911"
   ]
  },
  {
   "cell_type": "code",
   "execution_count": null,
   "metadata": {},
   "outputs": [],
   "source": [
    "%run scripts/radcal -p [1,2,3] imagery/MAD(AST_20010409-AST_20050911)"
   ]
  },
  {
   "cell_type": "code",
   "execution_count": null,
   "metadata": {},
   "outputs": [],
   "source": [
    "%run scripts/dispms  -f imagery/AST_20010409 -e 1 -p [1,2,3] \\\n",
    "-F imagery/AST_20050911_norm -E 1 -P [1,2,3] \\\n",
    "#-s '/home/mort/LaTeX/new projects/CRC5/Chapter9/fig9_25.eps'"
   ]
  },
  {
   "cell_type": "markdown",
   "metadata": {},
   "source": [
    "### Code for Exercise 4"
   ]
  },
  {
   "cell_type": "code",
   "execution_count": null,
   "metadata": {},
   "outputs": [],
   "source": [
    "import numpy as np\n",
    "from osgeo import gdal\n",
    "from osgeo.gdalconst import GA_ReadOnly, GDT_Float32\n",
    "\n",
    "im1 = 'imagery/AST_20010409'\n",
    "im2 = 'imagery/AST_20050911'\n",
    "im2_toy = 'imagery/AST_20050911_toy'\n",
    "dim = 400\n",
    "gdal.AllRegister()                 \n",
    "inDataset1 = gdal.Open(im1,GA_ReadOnly) \n",
    "inDataset2 = gdal.Open(im2,GA_ReadOnly)\n",
    "cols = inDataset1.RasterXSize\n",
    "rows = inDataset1.RasterYSize \n",
    "bands = inDataset1.RasterCount\n",
    "G1 = np.zeros((rows,cols,bands))\n",
    "G2 = np.zeros((rows,cols,bands))\n",
    "for k in range(bands):\n",
    "    band = inDataset1.GetRasterBand(k+1)  \n",
    "    G1[:,:,k] = band.ReadAsArray(0,0,cols,rows)\n",
    "    band = inDataset2.GetRasterBand(k+1)  \n",
    "    G2[:,:,k] = band.ReadAsArray(0,0,cols,rows)\n",
    "G2[:dim,:dim,:] = G1[:dim,:dim,:] + \\\n",
    "               0.1*np.random.randn(dim,dim,bands)\n",
    "driver = inDataset1.GetDriver()\n",
    "outDataset = driver \\\n",
    "   .Create(im2_toy,cols,rows,bands,GDT_Float32)\n",
    "for k in range(bands):        \n",
    "            outBand = outDataset.GetRasterBand(k+1)\n",
    "            outBand.WriteArray(G2[:,:,k],0,0) \n",
    "            outBand.FlushCache() "
   ]
  },
  {
   "cell_type": "code",
   "execution_count": null,
   "metadata": {},
   "outputs": [],
   "source": [
    "%run scripts/dispms -f imagery/AST_20010409 -e 1 -p [1,2,3]  -F imagery/AST_20050911_toy -E 1 -P [1,2,3] "
   ]
  },
  {
   "cell_type": "code",
   "execution_count": null,
   "metadata": {},
   "outputs": [],
   "source": []
  }
 ],
 "metadata": {
  "anaconda-cloud": {},
  "kernelspec": {
   "display_name": "Python 3 (ipykernel)",
   "language": "python",
   "name": "python3"
  },
  "language_info": {
   "codemirror_mode": {
    "name": "ipython",
    "version": 3
   },
   "file_extension": ".py",
   "mimetype": "text/x-python",
   "name": "python",
   "nbconvert_exporter": "python",
   "pygments_lexer": "ipython3",
   "version": "3.10.12"
  }
 },
 "nbformat": 4,
 "nbformat_minor": 4
}
